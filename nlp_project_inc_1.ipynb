{
  "nbformat": 4,
  "nbformat_minor": 0,
  "metadata": {
    "colab": {
      "provenance": [],
      "collapsed_sections": []
    },
    "kernelspec": {
      "name": "python3",
      "display_name": "Python 3"
    },
    "language_info": {
      "name": "python"
    },
    "accelerator": "GPU",
    "gpuClass": "standard"
  },
  "cells": [
    {
      "cell_type": "code",
      "source": [
        "#uploaded the dataset files to drive so mounting the drive here\n",
        "from google.colab import drive\n",
        "drive.mount('/content/drive')"
      ],
      "metadata": {
        "colab": {
          "base_uri": "https://localhost:8080/"
        },
        "id": "OK4Mhja1sdR2",
        "outputId": "2770b7b9-426b-4493-d62e-faedd9741896"
      },
      "execution_count": 4,
      "outputs": [
        {
          "output_type": "stream",
          "name": "stdout",
          "text": [
            "Mounted at /content/drive\n"
          ]
        }
      ]
    },
    {
      "cell_type": "code",
      "execution_count": 5,
      "metadata": {
        "colab": {
          "base_uri": "https://localhost:8080/"
        },
        "id": "0i02UalIgm2H",
        "outputId": "82d39cd7-c5d1-4244-d904-3a42ae838c00"
      },
      "outputs": [
        {
          "output_type": "stream",
          "name": "stdout",
          "text": [
            "Archive:  /content/drive/MyDrive/train.csv.zip\n",
            "  inflating: train.csv               \n"
          ]
        }
      ],
      "source": [
        "#unzipping the dataset files which are uploaded in the drive by giving the dataset file\n",
        "!unzip /content/drive/MyDrive/train.csv.zip"
      ]
    },
    {
      "cell_type": "code",
      "source": [
        "#unzipping the dataset files which are uploaded in the drive by giving the dataset file\n",
        "!unzip /content/drive/MyDrive/test.csv.zip"
      ],
      "metadata": {
        "colab": {
          "base_uri": "https://localhost:8080/"
        },
        "id": "MnQM_N6NhC1-",
        "outputId": "b5957367-de7a-408a-cf3f-747bcd87853b"
      },
      "execution_count": 6,
      "outputs": [
        {
          "output_type": "stream",
          "name": "stdout",
          "text": [
            "Archive:  /content/drive/MyDrive/test.csv.zip\n",
            "  inflating: test.csv                \n"
          ]
        }
      ]
    },
    {
      "cell_type": "code",
      "source": [
        "#Importing the required libraries\n",
        "import pandas as pd\n",
        "import numpy as np\n",
        "import matplotlib.pyplot as plt\n",
        "import seaborn as sns\n",
        "import warnings\n",
        "warnings.filterwarnings('ignore')\n",
        "#importing regular expression \n",
        "import re\n",
        "#importing tensorflow modules\n",
        "import tensorflow \n",
        "from tensorflow import keras\n",
        "from tensorflow.keras.models import Sequential\n",
        "from tensorflow.keras.preprocessing import text, sequence\n",
        "from tensorflow.keras import regularizers\n",
        "import os\n",
        "#importing the nltk modules\n",
        "import nltk\n",
        "nltk.download('punkt')\n",
        "nltk.download('stopwords')\n",
        "nltk.download('wordnet')\n",
        "#importing stemming amd lemmatizer modules \n",
        "from nltk.stem import PorterStemmer, WordNetLemmatizer\n",
        "from sklearn import preprocessing\n",
        "from gensim.models import Word2Vec\n",
        "from gensim.parsing.preprocessing import preprocess_string, strip_tags, strip_punctuation, remove_stopwords, strip_numeric, stem_text\n",
        "from sklearn.model_selection import GridSearchCV, train_test_split\n",
        "from sklearn.feature_extraction.text import TfidfVectorizer\n",
        "from sklearn.preprocessing import LabelEncoder, StandardScaler, RobustScaler\n",
        "from sklearn.pipeline import Pipeline\n",
        "#importing linear regression modules\n",
        "from sklearn.svm import LinearSVC\n",
        "from sklearn.metrics import precision_score, recall_score, f1_score, accuracy_score\n",
        "from imblearn.over_sampling import RandomOverSampler\n"
      ],
      "metadata": {
        "id": "i1rNQOEmhX4y",
        "colab": {
          "base_uri": "https://localhost:8080/"
        },
        "outputId": "4870df58-1d71-4d0a-ffc6-08aa16437416"
      },
      "execution_count": 7,
      "outputs": [
        {
          "output_type": "stream",
          "name": "stderr",
          "text": [
            "[nltk_data] Downloading package punkt to /root/nltk_data...\n",
            "[nltk_data]   Unzipping tokenizers/punkt.zip.\n",
            "[nltk_data] Downloading package stopwords to /root/nltk_data...\n",
            "[nltk_data]   Unzipping corpora/stopwords.zip.\n",
            "[nltk_data] Downloading package wordnet to /root/nltk_data...\n"
          ]
        }
      ]
    },
    {
      "cell_type": "code",
      "source": [
        "#Installing latest version\n",
        "!pip install tensorflow==1.14.0"
      ],
      "metadata": {
        "colab": {
          "base_uri": "https://localhost:8080/",
          "height": 974
        },
        "id": "QD5x61KeXxom",
        "outputId": "3ddeefc3-1953-47e8-ad5c-e98865d30b0e"
      },
      "execution_count": 8,
      "outputs": [
        {
          "output_type": "stream",
          "name": "stdout",
          "text": [
            "Looking in indexes: https://pypi.org/simple, https://us-python.pkg.dev/colab-wheels/public/simple/\n",
            "Collecting tensorflow==1.14.0\n",
            "  Downloading tensorflow-1.14.0-cp37-cp37m-manylinux1_x86_64.whl (109.3 MB)\n",
            "\u001b[K     |████████████████████████████████| 109.3 MB 56 kB/s \n",
            "\u001b[?25hCollecting keras-applications>=1.0.6\n",
            "  Downloading Keras_Applications-1.0.8-py3-none-any.whl (50 kB)\n",
            "\u001b[K     |████████████████████████████████| 50 kB 8.4 MB/s \n",
            "\u001b[?25hRequirement already satisfied: protobuf>=3.6.1 in /usr/local/lib/python3.7/dist-packages (from tensorflow==1.14.0) (3.17.3)\n",
            "Requirement already satisfied: google-pasta>=0.1.6 in /usr/local/lib/python3.7/dist-packages (from tensorflow==1.14.0) (0.2.0)\n",
            "Requirement already satisfied: numpy<2.0,>=1.14.5 in /usr/local/lib/python3.7/dist-packages (from tensorflow==1.14.0) (1.21.6)\n",
            "Collecting tensorflow-estimator<1.15.0rc0,>=1.14.0rc0\n",
            "  Downloading tensorflow_estimator-1.14.0-py2.py3-none-any.whl (488 kB)\n",
            "\u001b[K     |████████████████████████████████| 488 kB 55.0 MB/s \n",
            "\u001b[?25hCollecting tensorboard<1.15.0,>=1.14.0\n",
            "  Downloading tensorboard-1.14.0-py3-none-any.whl (3.1 MB)\n",
            "\u001b[K     |████████████████████████████████| 3.1 MB 56.8 MB/s \n",
            "\u001b[?25hRequirement already satisfied: wrapt>=1.11.1 in /usr/local/lib/python3.7/dist-packages (from tensorflow==1.14.0) (1.14.1)\n",
            "Requirement already satisfied: termcolor>=1.1.0 in /usr/local/lib/python3.7/dist-packages (from tensorflow==1.14.0) (2.0.1)\n",
            "Requirement already satisfied: six>=1.10.0 in /usr/local/lib/python3.7/dist-packages (from tensorflow==1.14.0) (1.15.0)\n",
            "Requirement already satisfied: grpcio>=1.8.6 in /usr/local/lib/python3.7/dist-packages (from tensorflow==1.14.0) (1.50.0)\n",
            "Requirement already satisfied: gast>=0.2.0 in /usr/local/lib/python3.7/dist-packages (from tensorflow==1.14.0) (0.4.0)\n",
            "Requirement already satisfied: absl-py>=0.7.0 in /usr/local/lib/python3.7/dist-packages (from tensorflow==1.14.0) (1.3.0)\n",
            "Requirement already satisfied: keras-preprocessing>=1.0.5 in /usr/local/lib/python3.7/dist-packages (from tensorflow==1.14.0) (1.1.2)\n",
            "Requirement already satisfied: astor>=0.6.0 in /usr/local/lib/python3.7/dist-packages (from tensorflow==1.14.0) (0.8.1)\n",
            "Requirement already satisfied: wheel>=0.26 in /usr/local/lib/python3.7/dist-packages (from tensorflow==1.14.0) (0.37.1)\n",
            "Requirement already satisfied: h5py in /usr/local/lib/python3.7/dist-packages (from keras-applications>=1.0.6->tensorflow==1.14.0) (3.1.0)\n",
            "Requirement already satisfied: setuptools>=41.0.0 in /usr/local/lib/python3.7/dist-packages (from tensorboard<1.15.0,>=1.14.0->tensorflow==1.14.0) (57.4.0)\n",
            "Requirement already satisfied: markdown>=2.6.8 in /usr/local/lib/python3.7/dist-packages (from tensorboard<1.15.0,>=1.14.0->tensorflow==1.14.0) (3.4.1)\n",
            "Requirement already satisfied: werkzeug>=0.11.15 in /usr/local/lib/python3.7/dist-packages (from tensorboard<1.15.0,>=1.14.0->tensorflow==1.14.0) (1.0.1)\n",
            "Requirement already satisfied: importlib-metadata>=4.4 in /usr/local/lib/python3.7/dist-packages (from markdown>=2.6.8->tensorboard<1.15.0,>=1.14.0->tensorflow==1.14.0) (4.13.0)\n",
            "Requirement already satisfied: typing-extensions>=3.6.4 in /usr/local/lib/python3.7/dist-packages (from importlib-metadata>=4.4->markdown>=2.6.8->tensorboard<1.15.0,>=1.14.0->tensorflow==1.14.0) (4.1.1)\n",
            "Requirement already satisfied: zipp>=0.5 in /usr/local/lib/python3.7/dist-packages (from importlib-metadata>=4.4->markdown>=2.6.8->tensorboard<1.15.0,>=1.14.0->tensorflow==1.14.0) (3.10.0)\n",
            "Requirement already satisfied: cached-property in /usr/local/lib/python3.7/dist-packages (from h5py->keras-applications>=1.0.6->tensorflow==1.14.0) (1.5.2)\n",
            "Installing collected packages: tensorflow-estimator, tensorboard, keras-applications, tensorflow\n",
            "  Attempting uninstall: tensorflow-estimator\n",
            "    Found existing installation: tensorflow-estimator 2.9.0\n",
            "    Uninstalling tensorflow-estimator-2.9.0:\n",
            "      Successfully uninstalled tensorflow-estimator-2.9.0\n",
            "  Attempting uninstall: tensorboard\n",
            "    Found existing installation: tensorboard 2.9.1\n",
            "    Uninstalling tensorboard-2.9.1:\n",
            "      Successfully uninstalled tensorboard-2.9.1\n",
            "  Attempting uninstall: tensorflow\n",
            "    Found existing installation: tensorflow 2.9.2\n",
            "    Uninstalling tensorflow-2.9.2:\n",
            "      Successfully uninstalled tensorflow-2.9.2\n",
            "\u001b[31mERROR: pip's dependency resolver does not currently take into account all the packages that are installed. This behaviour is the source of the following dependency conflicts.\n",
            "kapre 0.3.7 requires tensorflow>=2.0.0, but you have tensorflow 1.14.0 which is incompatible.\u001b[0m\n",
            "Successfully installed keras-applications-1.0.8 tensorboard-1.14.0 tensorflow-1.14.0 tensorflow-estimator-1.14.0\n"
          ]
        },
        {
          "output_type": "display_data",
          "data": {
            "application/vnd.colab-display-data+json": {
              "pip_warning": {
                "packages": [
                  "tensorboard",
                  "tensorflow"
                ]
              }
            }
          },
          "metadata": {}
        }
      ]
    },
    {
      "cell_type": "code",
      "source": [
        "#checking the version\n",
        "print(tensorflow.__version__)"
      ],
      "metadata": {
        "id": "5HBycy6BhXiG",
        "colab": {
          "base_uri": "https://localhost:8080/"
        },
        "outputId": "0ab87ec7-130a-4e22-f507-195669043128"
      },
      "execution_count": 9,
      "outputs": [
        {
          "output_type": "stream",
          "name": "stdout",
          "text": [
            "2.9.2\n"
          ]
        }
      ]
    },
    {
      "cell_type": "code",
      "source": [
        "#uninstalling the old version\n",
        "!pip uninstall numpy\n",
        "#installing the latest version\n",
        "!pip install numpy"
      ],
      "metadata": {
        "colab": {
          "base_uri": "https://localhost:8080/",
          "height": 505
        },
        "id": "KfaYM9o6ZX5w",
        "outputId": "92a955e3-5516-4bad-c94c-d0947dd7e5ba"
      },
      "execution_count": 10,
      "outputs": [
        {
          "output_type": "stream",
          "name": "stdout",
          "text": [
            "Found existing installation: numpy 1.21.6\n",
            "Uninstalling numpy-1.21.6:\n",
            "  Would remove:\n",
            "    /usr/bin/f2py\n",
            "    /usr/local/bin/f2py\n",
            "    /usr/local/bin/f2py3\n",
            "    /usr/local/bin/f2py3.7\n",
            "    /usr/local/lib/python3.7/dist-packages/numpy-1.21.6.dist-info/*\n",
            "    /usr/local/lib/python3.7/dist-packages/numpy.libs/libgfortran-2e0d59d6.so.5.0.0\n",
            "    /usr/local/lib/python3.7/dist-packages/numpy.libs/libopenblasp-r0-2d23e62b.3.17.so\n",
            "    /usr/local/lib/python3.7/dist-packages/numpy.libs/libquadmath-2d0c479f.so.0.0.0\n",
            "    /usr/local/lib/python3.7/dist-packages/numpy/*\n",
            "Proceed (y/n)? y\n",
            "  Successfully uninstalled numpy-1.21.6\n",
            "Looking in indexes: https://pypi.org/simple, https://us-python.pkg.dev/colab-wheels/public/simple/\n",
            "Collecting numpy\n",
            "  Downloading numpy-1.21.6-cp37-cp37m-manylinux_2_12_x86_64.manylinux2010_x86_64.whl (15.7 MB)\n",
            "\u001b[K     |████████████████████████████████| 15.7 MB 7.3 MB/s \n",
            "\u001b[?25hInstalling collected packages: numpy\n",
            "\u001b[31mERROR: pip's dependency resolver does not currently take into account all the packages that are installed. This behaviour is the source of the following dependency conflicts.\n",
            "kapre 0.3.7 requires tensorflow>=2.0.0, but you have tensorflow 1.14.0 which is incompatible.\u001b[0m\n",
            "Successfully installed numpy-1.21.6\n"
          ]
        },
        {
          "output_type": "display_data",
          "data": {
            "application/vnd.colab-display-data+json": {
              "pip_warning": {
                "packages": [
                  "numpy"
                ]
              }
            }
          },
          "metadata": {}
        }
      ]
    },
    {
      "cell_type": "code",
      "source": [
        "#checking the version type\n",
        "np.__version__"
      ],
      "metadata": {
        "colab": {
          "base_uri": "https://localhost:8080/",
          "height": 35
        },
        "id": "qpLzfctzZHa7",
        "outputId": "cf880167-068c-4822-d9bf-6ef15adc7f86"
      },
      "execution_count": 11,
      "outputs": [
        {
          "output_type": "execute_result",
          "data": {
            "text/plain": [
              "'1.21.6'"
            ],
            "application/vnd.google.colaboratory.intrinsic+json": {
              "type": "string"
            }
          },
          "metadata": {},
          "execution_count": 11
        }
      ]
    },
    {
      "cell_type": "code",
      "source": [
        "#training the train.csv file\n",
        "train_df = pd.read_csv('/content/train.csv')\n",
        "#testing the test.csv file\n",
        "test_df = pd.read_csv('/content/test.csv')\n"
      ],
      "metadata": {
        "id": "pEXZmn95iUEY"
      },
      "execution_count": 12,
      "outputs": []
    },
    {
      "cell_type": "code",
      "source": [
        "#checking the null values in the training file and printing them\n",
        "print(train_df.isnull().sum())\n"
      ],
      "metadata": {
        "colab": {
          "base_uri": "https://localhost:8080/"
        },
        "id": "-_iAz-v1i8uy",
        "outputId": "ec0c306a-1aac-4a87-d28e-18617d688607"
      },
      "execution_count": 13,
      "outputs": [
        {
          "output_type": "stream",
          "name": "stdout",
          "text": [
            "ID                      0\n",
            "TITLE                   0\n",
            "ABSTRACT                0\n",
            "Computer Science        0\n",
            "Physics                 0\n",
            "Mathematics             0\n",
            "Statistics              0\n",
            "Quantitative Biology    0\n",
            "Quantitative Finance    0\n",
            "dtype: int64\n"
          ]
        }
      ]
    },
    {
      "cell_type": "code",
      "source": [
        "print(train_df.columns)"
      ],
      "metadata": {
        "colab": {
          "base_uri": "https://localhost:8080/"
        },
        "id": "lytuB5CRK7oN",
        "outputId": "6bbccb4a-9d07-464a-b808-9a63a921977d"
      },
      "execution_count": 35,
      "outputs": [
        {
          "output_type": "stream",
          "name": "stdout",
          "text": [
            "Index(['ID', 'TITLE', 'ABSTRACT', 'Computer Science', 'Physics', 'Mathematics',\n",
            "       'Statistics', 'Quantitative Biology', 'Quantitative Finance',\n",
            "       'train_or_test'],\n",
            "      dtype='object')\n"
          ]
        }
      ]
    },
    {
      "cell_type": "code",
      "source": [
        "#targetting the required columns that we need and conveting them in to category\n",
        "target_cols = ['Computer Science', 'Physics', 'Mathematics','Statistics', 'Quantitative Biology', 'Quantitative Finance']"
      ],
      "metadata": {
        "id": "sJV2c2Qxi8rY"
      },
      "execution_count": 14,
      "outputs": []
    },
    {
      "cell_type": "code",
      "source": [
        "y_data = train_df[target_cols]"
      ],
      "metadata": {
        "id": "IpG3iiZ4i8og"
      },
      "execution_count": 15,
      "outputs": []
    },
    {
      "cell_type": "code",
      "source": [
        "#data visualization based on categories\n",
        "plt.figure(figsize=(10,6))\n",
        "y_data.sum(axis=0).plot.bar()\n",
        "plt.show()"
      ],
      "metadata": {
        "colab": {
          "base_uri": "https://localhost:8080/",
          "height": 468
        },
        "id": "98ccJOgNjIKi",
        "outputId": "f5170fde-464f-474f-d83d-1f2b1913525a"
      },
      "execution_count": 16,
      "outputs": [
        {
          "output_type": "display_data",
          "data": {
            "text/plain": [
              "<Figure size 720x432 with 1 Axes>"
            ],
            "image/png": "[encoded data removed]"
          },
          "metadata": {
            "needs_background": "light"
          }
        }
      ]
    },
    {
      "cell_type": "code",
      "source": [
        "#preparing the data by using stemming and lemmatization and also pre processing the data\n",
        "porter = PorterStemmer()\n",
        "wnl = WordNetLemmatizer()\n",
        "\n",
        "class DataPreprocess:\n",
        "    \n",
        "    def __init__(self):\n",
        "        self.filters = [strip_tags,\n",
        "                       strip_numeric,\n",
        "                       strip_punctuation,\n",
        "                       lambda x: x.lower(),\n",
        "                       lambda x: re.sub(r'\\s+\\w{1}\\s+', '', x),\n",
        "                       remove_stopwords]\n",
        "    def __call__(self, doc):\n",
        "        clean_words = self.__apply_filter(doc)\n",
        "        return clean_words\n",
        "    def __apply_filter(self, doc):\n",
        "        try:\n",
        "            cleanse_words = set(preprocess_string(doc, self.filters))\n",
        "            return ' '.join(cleanse_words)\n",
        "        except TypeError as te:\n",
        "            raise(TypeError(\"Not a valid data {}\".format(te)))\n",
        "  "
      ],
      "metadata": {
        "id": "QSiL4_mYjZve"
      },
      "execution_count": 17,
      "outputs": []
    },
    {
      "cell_type": "code",
      "source": [
        "#in order to pre process the data we are combining the test dataset and train dataset\n",
        "train_df['train_or_test'] = 0\n",
        "test_df['train_or_test'] = 1\n",
        "\n",
        "feature_col = ['ID', 'TITLE', 'ABSTRACT', 'train_or_test']"
      ],
      "metadata": {
        "id": "KKz4nr6vjZpj"
      },
      "execution_count": 18,
      "outputs": []
    },
    {
      "cell_type": "code",
      "source": [
        "combined_set = pd.concat([train_df[feature_col], test_df[feature_col]])\n",
        "combined_set"
      ],
      "metadata": {
        "colab": {
          "base_uri": "https://localhost:8080/",
          "height": 424
        },
        "id": "zpBYS_aPjZnE",
        "outputId": "5c2ae13b-d3d1-4d9b-901a-9cdc4fbedf91"
      },
      "execution_count": 19,
      "outputs": [
        {
          "output_type": "execute_result",
          "data": {
            "text/plain": [
              "         ID                                              TITLE  \\\n",
              "0         1        Reconstructing Subject-Specific Effect Maps   \n",
              "1         2                 Rotation Invariance Neural Network   \n",
              "2         3  Spherical polyharmonics and Poisson kernels fo...   \n",
              "3         4  A finite element approximation for the stochas...   \n",
              "4         5  Comparative study of Discrete Wavelet Transfor...   \n",
              "...     ...                                                ...   \n",
              "8984  29957  Supporting mixed-datatype matrix multiplicatio...   \n",
              "8985  29958        An axiomatic basis for Blackwell optimality   \n",
              "8986  29959  GeneVis - An interactive visualization tool fo...   \n",
              "8987  29960  Quantifying the causal effect of speed cameras...   \n",
              "8988  29961                      Cube-magic labelings of grids   \n",
              "\n",
              "                                               ABSTRACT  train_or_test  \n",
              "0       Predictive models allow subject-specific inf...              0  \n",
              "1       Rotation invariance and translation invarian...              0  \n",
              "2       We introduce and develop the notion of spher...              0  \n",
              "3       The stochastic Landau--Lifshitz--Gilbert (LL...              0  \n",
              "4       Fourier-transform infra-red (FTIR) spectra o...              0  \n",
              "...                                                 ...            ...  \n",
              "8984    We approach the problem of implementing mixe...              1  \n",
              "8985    In the theory of Markov decision processes (...              1  \n",
              "8986    GeneVis is a web-based tool to visualize com...              1  \n",
              "8987    This paper quantifies the effect of speed ca...              1  \n",
              "8988    We show that the vertices and edges of a $d$...              1  \n",
              "\n",
              "[29961 rows x 4 columns]"
            ],
            "text/html": [
              "\n",
              "  <div id=\"df-3eeac38c-be8e-4169-ad29-81a396cd3044\">\n",
              "    <div class=\"colab-df-container\">\n",
              "      <div>\n",
              "<style scoped>\n",
              "    .dataframe tbody tr th:only-of-type {\n",
              "        vertical-align: middle;\n",
              "    }\n",
              "\n",
              "    .dataframe tbody tr th {\n",
              "        vertical-align: top;\n",
              "    }\n",
              "\n",
              "    .dataframe thead th {\n",
              "        text-align: right;\n",
              "    }\n",
              "</style>\n",
              "<table border=\"1\" class=\"dataframe\">\n",
              "  <thead>\n",
              "    <tr style=\"text-align: right;\">\n",
              "      <th></th>\n",
              "      <th>ID</th>\n",
              "      <th>TITLE</th>\n",
              "      <th>ABSTRACT</th>\n",
              "      <th>train_or_test</th>\n",
              "    </tr>\n",
              "  </thead>\n",
              "  <tbody>\n",
              "    <tr>\n",
              "      <th>0</th>\n",
              "      <td>1</td>\n",
              "      <td>Reconstructing Subject-Specific Effect Maps</td>\n",
              "      <td>Predictive models allow subject-specific inf...</td>\n",
              "      <td>0</td>\n",
              "    </tr>\n",
              "    <tr>\n",
              "      <th>1</th>\n",
              "      <td>2</td>\n",
              "      <td>Rotation Invariance Neural Network</td>\n",
              "      <td>Rotation invariance and translation invarian...</td>\n",
              "      <td>0</td>\n",
              "    </tr>\n",
              "    <tr>\n",
              "      <th>2</th>\n",
              "      <td>3</td>\n",
              "      <td>Spherical polyharmonics and Poisson kernels fo...</td>\n",
              "      <td>We introduce and develop the notion of spher...</td>\n",
              "      <td>0</td>\n",
              "    </tr>\n",
              "    <tr>\n",
              "      <th>3</th>\n",
              "      <td>4</td>\n",
              "      <td>A finite element approximation for the stochas...</td>\n",
              "      <td>The stochastic Landau--Lifshitz--Gilbert (LL...</td>\n",
              "      <td>0</td>\n",
              "    </tr>\n",
              "    <tr>\n",
              "      <th>4</th>\n",
              "      <td>5</td>\n",
              "      <td>Comparative study of Discrete Wavelet Transfor...</td>\n",
              "      <td>Fourier-transform infra-red (FTIR) spectra o...</td>\n",
              "      <td>0</td>\n",
              "    </tr>\n",
              "    <tr>\n",
              "      <th>...</th>\n",
              "      <td>...</td>\n",
              "      <td>...</td>\n",
              "      <td>...</td>\n",
              "      <td>...</td>\n",
              "    </tr>\n",
              "    <tr>\n",
              "      <th>8984</th>\n",
              "      <td>29957</td>\n",
              "      <td>Supporting mixed-datatype matrix multiplicatio...</td>\n",
              "      <td>We approach the problem of implementing mixe...</td>\n",
              "      <td>1</td>\n",
              "    </tr>\n",
              "    <tr>\n",
              "      <th>8985</th>\n",
              "      <td>29958</td>\n",
              "      <td>An axiomatic basis for Blackwell optimality</td>\n",
              "      <td>In the theory of Markov decision processes (...</td>\n",
              "      <td>1</td>\n",
              "    </tr>\n",
              "    <tr>\n",
              "      <th>8986</th>\n",
              "      <td>29959</td>\n",
              "      <td>GeneVis - An interactive visualization tool fo...</td>\n",
              "      <td>GeneVis is a web-based tool to visualize com...</td>\n",
              "      <td>1</td>\n",
              "    </tr>\n",
              "    <tr>\n",
              "      <th>8987</th>\n",
              "      <td>29960</td>\n",
              "      <td>Quantifying the causal effect of speed cameras...</td>\n",
              "      <td>This paper quantifies the effect of speed ca...</td>\n",
              "      <td>1</td>\n",
              "    </tr>\n",
              "    <tr>\n",
              "      <th>8988</th>\n",
              "      <td>29961</td>\n",
              "      <td>Cube-magic labelings of grids</td>\n",
              "      <td>We show that the vertices and edges of a $d$...</td>\n",
              "      <td>1</td>\n",
              "    </tr>\n",
              "  </tbody>\n",
              "</table>\n",
              "<p>29961 rows × 4 columns</p>\n",
              "</div>\n",
              "      <button class=\"colab-df-convert\" onclick=\"convertToInteractive('df-3eeac38c-be8e-4169-ad29-81a396cd3044')\"\n",
              "              title=\"Convert this dataframe to an interactive table.\"\n",
              "              style=\"display:none;\">\n",
              "        \n",
              "  <svg xmlns=\"http://www.w3.org/2000/svg\" height=\"24px\"viewBox=\"0 0 24 24\"\n",
              "       width=\"24px\">\n",
              "    <path d=\"M0 0h24v24H0V0z\" fill=\"none\"/>\n",
              "    <path d=\"M18.56 5.44l.94 2.06.94-2.06 2.06-.94-2.06-.94-.94-2.06-.94 2.06-2.06.94zm-11 1L8.5 8.5l.94-2.06 2.06-.94-2.06-.94L8.5 2.5l-.94 2.06-2.06.94zm10 10l.94 2.06.94-2.06 2.06-.94-2.06-.94-.94-2.06-.94 2.06-2.06.94z\"/><path d=\"M17.41 7.96l-1.37-1.37c-.4-.4-.92-.59-1.43-.59-.52 0-1.04.2-1.43.59L10.3 9.45l-7.72 7.72c-.78.78-.78 2.05 0 2.83L4 21.41c.39.39.9.59 1.41.59.51 0 1.02-.2 1.41-.59l7.78-7.78 2.81-2.81c.8-.78.8-2.07 0-2.86zM5.41 20L4 18.59l7.72-7.72 1.47 1.35L5.41 20z\"/>\n",
              "  </svg>\n",
              "      </button>\n",
              "      \n",
              "  <style>\n",
              "    .colab-df-container {\n",
              "      display:flex;\n",
              "      flex-wrap:wrap;\n",
              "      gap: 12px;\n",
              "    }\n",
              "\n",
              "    .colab-df-convert {\n",
              "      background-color: #E8F0FE;\n",
              "      border: none;\n",
              "      border-radius: 50%;\n",
              "      cursor: pointer;\n",
              "      display: none;\n",
              "      fill: #1967D2;\n",
              "      height: 32px;\n",
              "      padding: 0 0 0 0;\n",
              "      width: 32px;\n",
              "    }\n",
              "\n",
              "    .colab-df-convert:hover {\n",
              "      background-color: #E2EBFA;\n",
              "      box-shadow: 0px 1px 2px rgba(60, 64, 67, 0.3), 0px 1px 3px 1px rgba(60, 64, 67, 0.15);\n",
              "      fill: #174EA6;\n",
              "    }\n",
              "\n",
              "    [theme=dark] .colab-df-convert {\n",
              "      background-color: #3B4455;\n",
              "      fill: #D2E3FC;\n",
              "    }\n",
              "\n",
              "    [theme=dark] .colab-df-convert:hover {\n",
              "      background-color: #434B5C;\n",
              "      box-shadow: 0px 1px 3px 1px rgba(0, 0, 0, 0.15);\n",
              "      filter: drop-shadow(0px 1px 2px rgba(0, 0, 0, 0.3));\n",
              "      fill: #FFFFFF;\n",
              "    }\n",
              "  </style>\n",
              "\n",
              "      <script>\n",
              "        const buttonEl =\n",
              "          document.querySelector('#df-3eeac38c-be8e-4169-ad29-81a396cd3044 button.colab-df-convert');\n",
              "        buttonEl.style.display =\n",
              "          google.colab.kernel.accessAllowed ? 'block' : 'none';\n",
              "\n",
              "        async function convertToInteractive(key) {\n",
              "          const element = document.querySelector('#df-3eeac38c-be8e-4169-ad29-81a396cd3044');\n",
              "          const dataTable =\n",
              "            await google.colab.kernel.invokeFunction('convertToInteractive',\n",
              "                                                     [key], {});\n",
              "          if (!dataTable) return;\n",
              "\n",
              "          const docLinkHtml = 'Like what you see? Visit the ' +\n",
              "            '<a target=\"_blank\" href=https://colab.research.google.com/notebooks/data_table.ipynb>data table notebook</a>'\n",
              "            + ' to learn more about interactive tables.';\n",
              "          element.innerHTML = '';\n",
              "          dataTable['output_type'] = 'display_data';\n",
              "          await google.colab.output.renderOutput(dataTable, element);\n",
              "          const docLink = document.createElement('div');\n",
              "          docLink.innerHTML = docLinkHtml;\n",
              "          element.appendChild(docLink);\n",
              "        }\n",
              "      </script>\n",
              "    </div>\n",
              "  </div>\n",
              "  "
            ]
          },
          "metadata": {},
          "execution_count": 19
        }
      ]
    },
    {
      "cell_type": "code",
      "source": [
        "#merging the title and abstract columns in to text in order to reduce the extra columns\n",
        "combined_set['TEXT'] = combined_set['TITLE'] + combined_set['ABSTRACT']\n",
        "combined_set = combined_set.drop(['TITLE', 'ABSTRACT'], axis=1)"
      ],
      "metadata": {
        "id": "967JSXDtjZkt"
      },
      "execution_count": 20,
      "outputs": []
    },
    {
      "cell_type": "code",
      "source": [
        "#applying the data pre process for the text data\n",
        "combined_set['Processed'] = combined_set['TEXT'].apply(DataPreprocess())\n"
      ],
      "metadata": {
        "id": "bahUiQyaCtPN"
      },
      "execution_count": 21,
      "outputs": []
    },
    {
      "cell_type": "code",
      "source": [
        "combined_set.columns"
      ],
      "metadata": {
        "colab": {
          "base_uri": "https://localhost:8080/"
        },
        "id": "UgOHqcbRjtCf",
        "outputId": "725a591d-08a3-4597-c445-d70c6431ebea"
      },
      "execution_count": 22,
      "outputs": [
        {
          "output_type": "execute_result",
          "data": {
            "text/plain": [
              "Index(['ID', 'train_or_test', 'TEXT', 'Processed'], dtype='object')"
            ]
          },
          "metadata": {},
          "execution_count": 22
        }
      ]
    },
    {
      "cell_type": "code",
      "source": [
        "train_set = combined_set.loc[combined_set['train_or_test'] == 0]\n",
        "test_set = combined_set.loc[combined_set['train_or_test'] == 1]\n",
        "#dropping the key reference values\n",
        "train_set = train_set.drop('train_or_test', axis=1)\n",
        "test_set = test_set.drop('train_or_test', axis=1)"
      ],
      "metadata": {
        "id": "RaYjdBwGjs-6"
      },
      "execution_count": 23,
      "outputs": []
    },
    {
      "cell_type": "code",
      "source": [
        "#printing the first two arrays\n",
        "train_set[0:2].values"
      ],
      "metadata": {
        "colab": {
          "base_uri": "https://localhost:8080/"
        },
        "id": "3MDxNCXSjs8h",
        "outputId": "e5dba815-1860-4303-8e9e-ffb07f4db681"
      },
      "execution_count": 24,
      "outputs": [
        {
          "output_type": "execute_result",
          "data": {
            "text/plain": [
              "array([[1,\n",
              "        \"Reconstructing Subject-Specific Effect Maps  Predictive models allow subject-specific inference when analyzing disease\\nrelated alterations in neuroimaging data. Given a subject's data, inference can\\nbe made at two levels: global, i.e. identifiying condition presence for the\\nsubject, and local, i.e. detecting condition effect on each individual\\nmeasurement extracted from the subject's data. While global inference is widely\\nused, local inference, which can be used to form subject-specific effect maps,\\nis rarely used because existing models often yield noisy detections composed of\\ndispersed isolated islands. In this article, we propose a reconstruction\\nmethod, named RSM, to improve subject-specific detections of predictive\\nmodeling approaches and in particular, binary classifiers. RSM specifically\\naims to reduce noise due to sampling error associated with using a finite\\nsample of examples to train classifiers. The proposed method is a wrapper-type\\nalgorithm that can be used with different binary classifiers in a diagnostic\\nmanner, i.e. without information on condition presence. Reconstruction is posed\\nas a Maximum-A-Posteriori problem with a prior model whose parameters are\\nestimated from training data in a classifier-specific fashion. Experimental\\nevaluation is performed on synthetically generated data and data from the\\nAlzheimer's Disease Neuroimaging Initiative (ADNI) database. Results on\\nsynthetic data demonstrate that using RSM yields higher detection accuracy\\ncompared to using models directly or with bootstrap averaging. Analyses on the\\nADNI dataset show that RSM can also improve correlation between\\nsubject-specific detections in cortical thickness data and non-imaging markers\\nof Alzheimer's Disease (AD), such as the Mini Mental State Examination Score\\nand Cerebrospinal Fluid amyloid-$\\\\beta$ levels. Further reliability studies on\\nthe longitudinal ADNI dataset show improvement on detection reliability when\\nRSM is used.\\n\",\n",
              "        'binary individual experimental sample presence predictive data bootstrap models reliability givensubjectdata mannere non beta detections associated database levels reduce withprior related analyses accuracy synthetic islands fashion initiative estimated thickness fluid rsm locale isolated composed particular model improve proposereconstruction article alzheimerdisease examination information iswrapper subjectdata improvement existing proposed type examples cerebrospinal subject reconstruction evaluation cortical problem yield allow modeling classifiers algorithm different markers state widely method extracted specific imaging effect posed sampling synthetically inference mental generated local asmaximumposteriori noise maps alterations results studies analyzing condition adni global neuroimaging yields score training named globale directly higher form measurement noisy ad reconstructing indiagnostic amyloid error identifiying demonstrate compared detection aims approaches parameters dispersed dataset usingfinite train longitudinal performed averaging inclassifier specifically detecting mini correlation disease rarely'],\n",
              "       [2,\n",
              "        'Rotation Invariance Neural Network  Rotation invariance and translation invariance have great values in image\\nrecognition tasks. In this paper, we bring a new architecture in convolutional\\nneural network (CNN) named cyclic convolutional layer to achieve rotation\\ninvariance in 2-D symbol recognition. We can also get the position and\\norientation of the 2-D symbol by the network to achieve detection purpose for\\nmultiple non-overlap target. Last but not least, this architecture can achieve\\none-shot learning in some cases using those invariance.\\n',\n",
              "        'convolutional bringnew orientation cyclic neural detection values architecture translation network image target rotation paper purpose non great multiple learning shot insymbol position thesymbol named tasks invariance achieve cnn overlap cases recognition layer']],\n",
              "      dtype=object)"
            ]
          },
          "metadata": {},
          "execution_count": 24
        }
      ]
    },
    {
      "cell_type": "code",
      "source": [
        "#spitting the data after pre processing\n",
        "train_data = train_set['Processed']\n",
        "test_data = test_set['Processed']\n",
        "\n",
        "y = y_data.values\n",
        "\n",
        "X_train, X_valid, y_train, y_valid = train_test_split(train_data, y, test_size=0.3, random_state=42)"
      ],
      "metadata": {
        "id": "ctgSH0FDjs6H"
      },
      "execution_count": 25,
      "outputs": []
    },
    {
      "cell_type": "code",
      "source": [
        "#word embedding method\n",
        "# in this method encoding the list of labels\n",
        "def label_encoding(y_train):\n",
        "    \n",
        "    lbl_enc = LabelEncoder()\n",
        "    \n",
        "    y_train_enc = lbl_enc.fit_transform(y_train)\n",
        "    labels = lbl_enc.classes_\n",
        "    \n",
        "    return y_train_enc, labels\n",
        "def word_embedding(train, test, max_features, max_len=200):\n",
        "  try:\n",
        "    # Keras Tokenizer class object\n",
        "    tokenizer = text.Tokenizer(num_words=max_features)\n",
        "    tokenizer.fit_on_texts(train)\n",
        "    \n",
        "    train_data = tokenizer.texts_to_sequences(train)\n",
        "    test_data = tokenizer.texts_to_sequences(test)\n",
        "    #cheking the maximum lenth of vocabulary\n",
        "    vocab_size = len(tokenizer.word_index) + 1\n",
        "  #padding the sequence based on the maximum length\n",
        "    x_train = sequence.pad_sequences(train_data, maxlen=max_len, padding='post')\n",
        "    x_test = sequence.pad_sequences(test_data, maxlen=max_len, padding='post')\n",
        "    #going back to train, test and vocab size\n",
        "    return tokenizer, x_train, x_test, vocab_size\n",
        "  except ValueError as ve:\n",
        "    raise(ValueError(\"Error in word_embedding {}\".format(ve)))"
      ],
      "metadata": {
        "id": "n3R97LqULHB6"
      },
      "execution_count": 26,
      "outputs": []
    },
    {
      "cell_type": "code",
      "source": [
        "max_features = 6000\n",
        "max_len = 200\n",
        "tokenizer, x_pad_train, x_pad_valid, vocab_size = word_embedding(X_train,\n",
        "                                                                 X_valid,\n",
        "                                                                 max_features)"
      ],
      "metadata": {
        "id": "nmmSz-foLG-0"
      },
      "execution_count": 27,
      "outputs": []
    },
    {
      "cell_type": "code",
      "source": [
        "x_pad_train.shape\n",
        "print(\"Vocab size: {}\".format(vocab_size))"
      ],
      "metadata": {
        "colab": {
          "base_uri": "https://localhost:8080/"
        },
        "id": "NJCBcBj4LG8Z",
        "outputId": "4dc7d13e-c004-4369-d678-3c098a849e9e"
      },
      "execution_count": 28,
      "outputs": [
        {
          "output_type": "stream",
          "name": "stdout",
          "text": [
            "Vocab size: 97282\n"
          ]
        }
      ]
    },
    {
      "cell_type": "code",
      "source": [
        "#RNN modelling\n",
        "def build_rnn(vocab_size,output_dim, max_len):\n",
        "  \n",
        "  model = Sequential([\n",
        "      keras.layers.Embedding(vocab_size,200,\n",
        "                            input_length=max_len),\n",
        "      keras.layers.BatchNormalization(),\n",
        "      keras.layers.Bidirectional(keras.layers.LSTM(256,return_sequences=True)),\n",
        "      keras.layers.GlobalMaxPool1D(), \n",
        "      keras.layers.Dense(256, activation='relu'),\n",
        "      keras.layers.Dropout(0.5),\n",
        "      keras.layers.Dense(128, activation='relu'),\n",
        "      keras.layers.Dropout(0.5),\n",
        "      keras.layers.Dense(64, activation='relu'),\n",
        "      keras.layers.Dropout(0.5),\n",
        "      keras.layers.Dense(32, activation='relu'),\n",
        "      keras.layers.Dense(output_dim, activation='sigmoid')\n",
        "  ])\n",
        "\n",
        "  return model"
      ],
      "metadata": {
        "id": "Boj7V8ZiLG5Q"
      },
      "execution_count": 29,
      "outputs": []
    },
    {
      "cell_type": "code",
      "source": [
        "#printing the model summary\n",
        "rnn_model = build_rnn(vocab_size, 6, max_len)\n",
        "rnn_model.summary()"
      ],
      "metadata": {
        "colab": {
          "base_uri": "https://localhost:8080/"
        },
        "id": "ahqL3j1zLG2d",
        "outputId": "620deda5-00ff-409d-9354-1bfc6e38d892"
      },
      "execution_count": 30,
      "outputs": [
        {
          "output_type": "stream",
          "name": "stdout",
          "text": [
            "Model: \"sequential\"\n",
            "_________________________________________________________________\n",
            " Layer (type)                Output Shape              Param #   \n",
            "=================================================================\n",
            " embedding (Embedding)       (None, 200, 200)          19456400  \n",
            "                                                                 \n",
            " batch_normalization (BatchN  (None, 200, 200)         800       \n",
            " ormalization)                                                   \n",
            "                                                                 \n",
            " bidirectional (Bidirectiona  (None, 200, 512)         935936    \n",
            " l)                                                              \n",
            "                                                                 \n",
            " global_max_pooling1d (Globa  (None, 512)              0         \n",
            " lMaxPooling1D)                                                  \n",
            "                                                                 \n",
            " dense (Dense)               (None, 256)               131328    \n",
            "                                                                 \n",
            " dropout (Dropout)           (None, 256)               0         \n",
            "                                                                 \n",
            " dense_1 (Dense)             (None, 128)               32896     \n",
            "                                                                 \n",
            " dropout_1 (Dropout)         (None, 128)               0         \n",
            "                                                                 \n",
            " dense_2 (Dense)             (None, 64)                8256      \n",
            "                                                                 \n",
            " dropout_2 (Dropout)         (None, 64)                0         \n",
            "                                                                 \n",
            " dense_3 (Dense)             (None, 32)                2080      \n",
            "                                                                 \n",
            " dense_4 (Dense)             (None, 6)                 198       \n",
            "                                                                 \n",
            "=================================================================\n",
            "Total params: 20,567,894\n",
            "Trainable params: 20,567,494\n",
            "Non-trainable params: 400\n",
            "_________________________________________________________________\n"
          ]
        }
      ]
    },
    {
      "cell_type": "code",
      "source": [
        "#compiling the model\n",
        "rnn_model.compile(optimizer='adam', loss='binary_crossentropy', metrics=['acc'])"
      ],
      "metadata": {
        "id": "ftLVx-L8LGzv"
      },
      "execution_count": 31,
      "outputs": []
    },
    {
      "cell_type": "code",
      "source": [
        "#fitting the model\n",
        "history = rnn_model.fit(x_pad_train, \n",
        "                        y_train,\n",
        "                        batch_size=256,\n",
        "                       epochs=7,\n",
        "                       verbose=1,\n",
        "                       validation_split=0.2)"
      ],
      "metadata": {
        "colab": {
          "base_uri": "https://localhost:8080/"
        },
        "id": "F6prlzHELGxg",
        "outputId": "fc76f417-2c20-43cd-a4a3-54cce8ce26a4"
      },
      "execution_count": 32,
      "outputs": [
        {
          "output_type": "stream",
          "name": "stdout",
          "text": [
            "Epoch 1/7\n",
            "46/46 [==============================] - 19s 156ms/step - loss: 0.5469 - acc: 0.2489 - val_loss: 0.6208 - val_acc: 0.4193\n",
            "Epoch 2/7\n",
            "46/46 [==============================] - 6s 140ms/step - loss: 0.4526 - acc: 0.3537 - val_loss: 0.5891 - val_acc: 0.4193\n",
            "Epoch 3/7\n",
            "46/46 [==============================] - 6s 140ms/step - loss: 0.3837 - acc: 0.5010 - val_loss: 0.5162 - val_acc: 0.5150\n",
            "Epoch 4/7\n",
            "46/46 [==============================] - 6s 140ms/step - loss: 0.3170 - acc: 0.6218 - val_loss: 0.4505 - val_acc: 0.6066\n",
            "Epoch 5/7\n",
            "46/46 [==============================] - 6s 142ms/step - loss: 0.2418 - acc: 0.7512 - val_loss: 0.4019 - val_acc: 0.6063\n",
            "Epoch 6/7\n",
            "46/46 [==============================] - 7s 143ms/step - loss: 0.2025 - acc: 0.7743 - val_loss: 0.2987 - val_acc: 0.6757\n",
            "Epoch 7/7\n",
            "46/46 [==============================] - 7s 144ms/step - loss: 0.1740 - acc: 0.7891 - val_loss: 0.2975 - val_acc: 0.6383\n"
          ]
        }
      ]
    },
    {
      "cell_type": "code",
      "source": [
        "#printing the accuracy score\n",
        "score = rnn_model.evaluate(x_pad_valid, y_valid, verbose=1)\n",
        "\n",
        "print(\"Loss:%.3f Accuracy: %.3f\" % (score[0], score[1]))"
      ],
      "metadata": {
        "colab": {
          "base_uri": "https://localhost:8080/"
        },
        "id": "roBggnYILGuL",
        "outputId": "257e8ea0-8460-4d1c-afc4-e0b60a62a212"
      },
      "execution_count": 33,
      "outputs": [
        {
          "output_type": "stream",
          "name": "stdout",
          "text": [
            "197/197 [==============================] - 4s 18ms/step - loss: 0.2958 - acc: 0.6345\n",
            "Loss:0.296 Accuracy: 0.634\n"
          ]
        }
      ]
    },
    {
      "cell_type": "code",
      "source": [
        "#graph visualization of accuracy and loss\n",
        "plt.plot(history.history['acc'])\n",
        "plt.plot(history.history['val_acc'])\n",
        "plt.title('model accuracy')\n",
        "plt.ylabel('accuracy')\n",
        "plt.xlabel('epoch')\n",
        "plt.legend(['train','test'], loc='upper left')\n",
        "plt.show()\n",
        "plt.plot(history.history['loss'])\n",
        "plt.plot(history.history['val_loss'])\n",
        "plt.title('model loss')\n",
        "plt.ylabel('loss')\n",
        "plt.xlabel('epoch')\n",
        "plt.legend(['train','test'], loc='upper left')\n",
        "plt.show()\n"
      ],
      "metadata": {
        "colab": {
          "base_uri": "https://localhost:8080/",
          "height": 573
        },
        "id": "ko5VS57wNDZH",
        "outputId": "d1b04b8c-a52e-4848-f22f-ec8a86e77f30"
      },
      "execution_count": 34,
      "outputs": [
        {
          "output_type": "display_data",
          "data": {
            "text/plain": [
              "<Figure size 432x288 with 1 Axes>"
            ],
            "image/png": "[encoded data removed]"
          },
          "metadata": {
            "needs_background": "light"
          }
        },
        {
          "output_type": "display_data",
          "data": {
            "text/plain": [
              "<Figure size 432x288 with 1 Axes>"
            ],
            "image/png": "[encoded data removed]"
          },
          "metadata": {
            "needs_background": "light"
          }
        }
      ]
    }
  ]
}